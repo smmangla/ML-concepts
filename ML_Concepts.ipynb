{
  "nbformat": 4,
  "nbformat_minor": 0,
  "metadata": {
    "colab": {
      "name": "ML_Concepts.ipynb",
      "provenance": [],
      "collapsed_sections": [],
      "toc_visible": true
    },
    "kernelspec": {
      "name": "python3",
      "display_name": "Python 3"
    }
  },
  "cells": [
    {
      "cell_type": "markdown",
      "metadata": {
        "id": "hAQLdYXm2JY2",
        "colab_type": "text"
      },
      "source": [
        "# Load Data"
      ]
    },
    {
      "cell_type": "code",
      "metadata": {
        "id": "Ob_jcsmY2LNo",
        "colab_type": "code",
        "colab": {}
      },
      "source": [
        "import pandas as pd\n",
        "import numpy as np\n",
        "from matplotlib import pyplot\n",
        "from sklearn.ensemble import GradientBoostingClassifier\n",
        "from sklearn.linear_model import LogisticRegression\n",
        "from sklearn.ensemble import RandomForestClassifier\n",
        "from sklearn.tree import DecisionTreeClassifier\n",
        "from sklearn.neighbors import KNeighborsClassifier\n",
        "from sklearn.discriminant_analysis import LinearDiscriminantAnalysis\n",
        "from sklearn.naive_bayes import GaussianNB\n",
        "from sklearn.ensemble import ExtraTreesClassifier\n",
        "from sklearn.ensemble import BaggingClassifier\n",
        "from sklearn.metrics import classification_report\n",
        "from sklearn.metrics import confusion_matrix\n",
        "from sklearn.metrics import accuracy_score\n",
        "from sklearn.model_selection import train_test_split\n",
        "from sklearn.model_selection import KFold\n",
        "from sklearn.model_selection import cross_val_score\n",
        "import warnings\n",
        "warnings.filterwarnings(\"ignore\")\n",
        "from sklearn.model_selection import train_test_split\n",
        "from sklearn.model_selection import GridSearchCV\n",
        "from sklearn.pipeline import Pipeline\n",
        "from sklearn.preprocessing import StandardScaler\n",
        "from sklearn.decomposition import PCA"
      ],
      "execution_count": 0,
      "outputs": []
    },
    {
      "cell_type": "code",
      "metadata": {
        "id": "5riVjC0yR8qV",
        "colab_type": "code",
        "outputId": "468aeb94-1fdc-4288-cd8f-39afa297deb6",
        "colab": {
          "base_uri": "https://localhost:8080/",
          "height": 121
        }
      },
      "source": [
        "#mount drive\n",
        "from google.colab import drive\n",
        "drive.mount('/content/drive')"
      ],
      "execution_count": 2,
      "outputs": [
        {
          "output_type": "stream",
          "text": [
            "Go to this URL in a browser: https://accounts.google.com/o/oauth2/auth?client_id=947318989803-6bn6qk8qdgf4n4g3pfee6491hc0brc4i.apps.googleusercontent.com&redirect_uri=urn%3aietf%3awg%3aoauth%3a2.0%3aoob&response_type=code&scope=email%20https%3a%2f%2fwww.googleapis.com%2fauth%2fdocs.test%20https%3a%2f%2fwww.googleapis.com%2fauth%2fdrive%20https%3a%2f%2fwww.googleapis.com%2fauth%2fdrive.photos.readonly%20https%3a%2f%2fwww.googleapis.com%2fauth%2fpeopleapi.readonly\n",
            "\n",
            "Enter your authorization code:\n",
            "··········\n",
            "Mounted at /content/drive\n"
          ],
          "name": "stdout"
        }
      ]
    },
    {
      "cell_type": "code",
      "metadata": {
        "id": "nc-rFO3W2YwM",
        "colab_type": "code",
        "colab": {}
      },
      "source": [
        "#load cities dataset\n",
        "df_cities = pd.read_csv(\"/content/drive/My Drive/Data Science with Python Spring2020/week6_26feb2020/assignment3/500Cities_cleandata_ReadyForEDA(1).csv\")"
      ],
      "execution_count": 0,
      "outputs": []
    },
    {
      "cell_type": "code",
      "metadata": {
        "id": "jQcr6ydcWUyI",
        "colab_type": "code",
        "outputId": "18289de5-8649-4fd7-ec4d-e258aaa226c9",
        "colab": {
          "base_uri": "https://localhost:8080/",
          "height": 1193
        }
      },
      "source": [
        "####################################\n",
        "# Summarize Data\n",
        "\n",
        "# Descriptive statistics\n",
        "# shape\n",
        "print(df_cities.shape)\n",
        "# head\n",
        "print(df_cities.head(20))\n",
        "# data type \n",
        "print(df_cities.dtypes)\n",
        "# descriptions\n",
        "print(df_cities.describe())"
      ],
      "execution_count": 4,
      "outputs": [
        {
          "output_type": "stream",
          "text": [
            "(500, 34)\n",
            "    Unnamed: 0 StateAbbr  ... TEETHLOST_CrudePrev                       Geolocation\n",
            "0            1        CA  ...                 6.8  (38.67504943280, -121.147605753)\n",
            "1            2        FL  ...                18.3  (27.90909077340, -82.7714203383)\n",
            "2            3        CA  ...                 6.7  (37.87256787650, -122.274907975)\n",
            "3            4        CA  ...                11.2  (38.29804246490, -122.301093331)\n",
            "4            5        FL  ...                16.2  (26.15468783030, -80.2998411020)\n",
            "5            6        FL  ...                14.1  (26.01273875340, -80.3384522664)\n",
            "6            7        NJ  ...                26.1  (40.22372899810, -74.7639943311)\n",
            "7            8        CO  ...                17.7  (38.27339572510, -104.612001218)\n",
            "8            9        WI  ...                16.9  (42.72745994940, -87.8134530240)\n",
            "9           10        WA  ...                13.6  (47.30385443250, -122.210810557)\n",
            "10          11        TX  ...                10.1  (30.30686103420, -97.7554771245)\n",
            "11          12        IL  ...                20.8  (42.37029555820, -87.8712595095)\n",
            "12          13        MN  ...                10.3  (45.11120339160, -93.3505067942)\n",
            "13          14        WA  ...                 9.7  (47.47605467520, -122.191153327)\n",
            "14          15        OK  ...                17.7  (35.46756428800, -97.5137615524)\n",
            "15          16        GA  ...                22.6  (33.36445615270, -82.0708396775)\n",
            "16          17        MA  ...                26.0  (42.11549779990, -72.5395254143)\n",
            "17          18        CA  ...                15.2  (35.35133028550, -119.029786003)\n",
            "18          19        LA  ...                21.6  (30.20306799660, -93.2148796496)\n",
            "19          20        IL  ...                 8.7  (42.03054887550, -88.0838663543)\n",
            "\n",
            "[20 rows x 34 columns]\n",
            "Unnamed: 0                  int64\n",
            "StateAbbr                  object\n",
            "PlaceName                  object\n",
            "PlaceFIPS                   int64\n",
            "Population2010              int64\n",
            "ACCESS2_CrudePrev         float64\n",
            "ARTHRITIS_CrudePrev       float64\n",
            "BINGE_CrudePrev           float64\n",
            "BPHIGH_CrudePrev          float64\n",
            "BPMED_CrudePrev           float64\n",
            "CANCER_CrudePrev          float64\n",
            "CASTHMA_CrudePrev         float64\n",
            "CHD_CrudePrev             float64\n",
            "CHECKUP_CrudePrev         float64\n",
            "CHOLSCREEN_CrudePrev      float64\n",
            "COLON_SCREEN_CrudePrev    float64\n",
            "COPD_CrudePrev            float64\n",
            "COREM_CrudePrev           float64\n",
            "COREW_CrudePrev           float64\n",
            "CSMOKING_CrudePrev        float64\n",
            "DENTAL_CrudePrev          float64\n",
            "DIABETES_CrudePrev        float64\n",
            "HIGHCHOL_CrudePrev        float64\n",
            "KIDNEY_CrudePrev          float64\n",
            "LPA_CrudePrev             float64\n",
            "MAMMOUSE_CrudePrev        float64\n",
            "MHLTH_CrudePrev           float64\n",
            "OBESITY_CrudePrev         float64\n",
            "PAPTEST_CrudePrev         float64\n",
            "PHLTH_CrudePrev           float64\n",
            "SLEEP_CrudePrev           float64\n",
            "STROKE_CrudePrev          float64\n",
            "TEETHLOST_CrudePrev       float64\n",
            "Geolocation                object\n",
            "dtype: object\n",
            "       Unnamed: 0     PlaceFIPS  ...  STROKE_CrudePrev  TEETHLOST_CrudePrev\n",
            "count  500.000000  5.000000e+02  ...        500.000000           500.000000\n",
            "mean   250.500000  2.438986e+06  ...          2.983800            14.491800\n",
            "std    144.481833  1.720294e+06  ...          0.803298             4.967134\n",
            "min      1.000000  1.500300e+04  ...          1.300000             4.900000\n",
            "25%    125.750000  6.700735e+05  ...          2.400000            10.800000\n",
            "50%    250.500000  1.955965e+06  ...          2.900000            14.300000\n",
            "75%    375.250000  4.053125e+06  ...          3.400000            17.700000\n",
            "max    500.000000  5.613900e+06  ...          6.700000            31.700000\n",
            "\n",
            "[8 rows x 31 columns]\n"
          ],
          "name": "stdout"
        }
      ]
    },
    {
      "cell_type": "markdown",
      "metadata": {
        "id": "a0QfZCRK2xhJ",
        "colab_type": "text"
      },
      "source": [
        "# Data Pre-processing"
      ]
    },
    {
      "cell_type": "code",
      "metadata": {
        "id": "OCxt-INZV2_t",
        "colab_type": "code",
        "outputId": "e2ea1074-77ab-485f-c506-188b470240c5",
        "colab": {
          "base_uri": "https://localhost:8080/",
          "height": 605
        }
      },
      "source": [
        "missing_values = df_cities.isnull().sum(axis=0)\n",
        "missing_values"
      ],
      "execution_count": 5,
      "outputs": [
        {
          "output_type": "execute_result",
          "data": {
            "text/plain": [
              "Unnamed: 0                 0\n",
              "StateAbbr                  0\n",
              "PlaceName                  0\n",
              "PlaceFIPS                  0\n",
              "Population2010             0\n",
              "ACCESS2_CrudePrev          0\n",
              "ARTHRITIS_CrudePrev        0\n",
              "BINGE_CrudePrev            0\n",
              "BPHIGH_CrudePrev           0\n",
              "BPMED_CrudePrev            0\n",
              "CANCER_CrudePrev           0\n",
              "CASTHMA_CrudePrev          0\n",
              "CHD_CrudePrev              0\n",
              "CHECKUP_CrudePrev          0\n",
              "CHOLSCREEN_CrudePrev       0\n",
              "COLON_SCREEN_CrudePrev     0\n",
              "COPD_CrudePrev             0\n",
              "COREM_CrudePrev            0\n",
              "COREW_CrudePrev            0\n",
              "CSMOKING_CrudePrev         0\n",
              "DENTAL_CrudePrev           0\n",
              "DIABETES_CrudePrev         0\n",
              "HIGHCHOL_CrudePrev         0\n",
              "KIDNEY_CrudePrev           0\n",
              "LPA_CrudePrev              0\n",
              "MAMMOUSE_CrudePrev         0\n",
              "MHLTH_CrudePrev            0\n",
              "OBESITY_CrudePrev          0\n",
              "PAPTEST_CrudePrev         47\n",
              "PHLTH_CrudePrev            0\n",
              "SLEEP_CrudePrev            0\n",
              "STROKE_CrudePrev           0\n",
              "TEETHLOST_CrudePrev        0\n",
              "Geolocation                0\n",
              "dtype: int64"
            ]
          },
          "metadata": {
            "tags": []
          },
          "execution_count": 5
        }
      ]
    },
    {
      "cell_type": "code",
      "metadata": {
        "id": "noAqX1OPWBav",
        "colab_type": "code",
        "outputId": "1eb09d54-0546-48a1-b1d4-af29464717df",
        "colab": {
          "base_uri": "https://localhost:8080/",
          "height": 34
        }
      },
      "source": [
        "#removing 47 missing values \n",
        "#drop NaN rows\n",
        "df_cities = df_cities.dropna()\n",
        "df_cities.shape"
      ],
      "execution_count": 6,
      "outputs": [
        {
          "output_type": "execute_result",
          "data": {
            "text/plain": [
              "(453, 34)"
            ]
          },
          "metadata": {
            "tags": []
          },
          "execution_count": 6
        }
      ]
    },
    {
      "cell_type": "code",
      "metadata": {
        "id": "dPKX71RSWtyk",
        "colab_type": "code",
        "colab": {}
      },
      "source": [
        "#Set the random seed to “123”. \n",
        "np.random.seed(123)"
      ],
      "execution_count": 0,
      "outputs": []
    },
    {
      "cell_type": "code",
      "metadata": {
        "id": "GQ9XinyUX4Ie",
        "colab_type": "code",
        "outputId": "bd0eac16-b7b0-4387-9fdd-bd282a861b0c",
        "colab": {
          "base_uri": "https://localhost:8080/",
          "height": 606
        }
      },
      "source": [
        "#Shuffle the rows in your dataset\n",
        "#df_cities.apply(np.random.shuffle(df_cities.values),axis=0)\n",
        "from sklearn.utils import shuffle\n",
        "df_cities = shuffle(df_cities)\n",
        "df_cities"
      ],
      "execution_count": 8,
      "outputs": [
        {
          "output_type": "execute_result",
          "data": {
            "text/html": [
              "<div>\n",
              "<style scoped>\n",
              "    .dataframe tbody tr th:only-of-type {\n",
              "        vertical-align: middle;\n",
              "    }\n",
              "\n",
              "    .dataframe tbody tr th {\n",
              "        vertical-align: top;\n",
              "    }\n",
              "\n",
              "    .dataframe thead th {\n",
              "        text-align: right;\n",
              "    }\n",
              "</style>\n",
              "<table border=\"1\" class=\"dataframe\">\n",
              "  <thead>\n",
              "    <tr style=\"text-align: right;\">\n",
              "      <th></th>\n",
              "      <th>Unnamed: 0</th>\n",
              "      <th>StateAbbr</th>\n",
              "      <th>PlaceName</th>\n",
              "      <th>PlaceFIPS</th>\n",
              "      <th>Population2010</th>\n",
              "      <th>ACCESS2_CrudePrev</th>\n",
              "      <th>ARTHRITIS_CrudePrev</th>\n",
              "      <th>BINGE_CrudePrev</th>\n",
              "      <th>BPHIGH_CrudePrev</th>\n",
              "      <th>BPMED_CrudePrev</th>\n",
              "      <th>CANCER_CrudePrev</th>\n",
              "      <th>CASTHMA_CrudePrev</th>\n",
              "      <th>CHD_CrudePrev</th>\n",
              "      <th>CHECKUP_CrudePrev</th>\n",
              "      <th>CHOLSCREEN_CrudePrev</th>\n",
              "      <th>COLON_SCREEN_CrudePrev</th>\n",
              "      <th>COPD_CrudePrev</th>\n",
              "      <th>COREM_CrudePrev</th>\n",
              "      <th>COREW_CrudePrev</th>\n",
              "      <th>CSMOKING_CrudePrev</th>\n",
              "      <th>DENTAL_CrudePrev</th>\n",
              "      <th>DIABETES_CrudePrev</th>\n",
              "      <th>HIGHCHOL_CrudePrev</th>\n",
              "      <th>KIDNEY_CrudePrev</th>\n",
              "      <th>LPA_CrudePrev</th>\n",
              "      <th>MAMMOUSE_CrudePrev</th>\n",
              "      <th>MHLTH_CrudePrev</th>\n",
              "      <th>OBESITY_CrudePrev</th>\n",
              "      <th>PAPTEST_CrudePrev</th>\n",
              "      <th>PHLTH_CrudePrev</th>\n",
              "      <th>SLEEP_CrudePrev</th>\n",
              "      <th>STROKE_CrudePrev</th>\n",
              "      <th>TEETHLOST_CrudePrev</th>\n",
              "      <th>Geolocation</th>\n",
              "    </tr>\n",
              "  </thead>\n",
              "  <tbody>\n",
              "    <tr>\n",
              "      <th>52</th>\n",
              "      <td>53</td>\n",
              "      <td>IL</td>\n",
              "      <td>Rockford</td>\n",
              "      <td>1765000</td>\n",
              "      <td>152871</td>\n",
              "      <td>15.5</td>\n",
              "      <td>28.7</td>\n",
              "      <td>16.6</td>\n",
              "      <td>34.9</td>\n",
              "      <td>77.6</td>\n",
              "      <td>6.7</td>\n",
              "      <td>10.4</td>\n",
              "      <td>7.4</td>\n",
              "      <td>68.3</td>\n",
              "      <td>72.5</td>\n",
              "      <td>58.2</td>\n",
              "      <td>8.2</td>\n",
              "      <td>32.1</td>\n",
              "      <td>26.7</td>\n",
              "      <td>22.8</td>\n",
              "      <td>56.3</td>\n",
              "      <td>11.9</td>\n",
              "      <td>39.0</td>\n",
              "      <td>3.4</td>\n",
              "      <td>30.3</td>\n",
              "      <td>72.4</td>\n",
              "      <td>13.8</td>\n",
              "      <td>36.3</td>\n",
              "      <td>82.5</td>\n",
              "      <td>15.2</td>\n",
              "      <td>38.8</td>\n",
              "      <td>4.0</td>\n",
              "      <td>18.6</td>\n",
              "      <td>(42.26331800150, -89.0625958362)</td>\n",
              "    </tr>\n",
              "    <tr>\n",
              "      <th>96</th>\n",
              "      <td>97</td>\n",
              "      <td>TX</td>\n",
              "      <td>Pearland</td>\n",
              "      <td>4856348</td>\n",
              "      <td>91252</td>\n",
              "      <td>15.1</td>\n",
              "      <td>18.2</td>\n",
              "      <td>19.2</td>\n",
              "      <td>27.0</td>\n",
              "      <td>73.3</td>\n",
              "      <td>5.0</td>\n",
              "      <td>8.0</td>\n",
              "      <td>4.0</td>\n",
              "      <td>68.8</td>\n",
              "      <td>77.3</td>\n",
              "      <td>65.2</td>\n",
              "      <td>3.9</td>\n",
              "      <td>34.5</td>\n",
              "      <td>33.9</td>\n",
              "      <td>14.0</td>\n",
              "      <td>68.9</td>\n",
              "      <td>8.2</td>\n",
              "      <td>33.1</td>\n",
              "      <td>2.1</td>\n",
              "      <td>19.6</td>\n",
              "      <td>77.9</td>\n",
              "      <td>9.8</td>\n",
              "      <td>28.4</td>\n",
              "      <td>81.9</td>\n",
              "      <td>8.9</td>\n",
              "      <td>32.3</td>\n",
              "      <td>1.9</td>\n",
              "      <td>8.6</td>\n",
              "      <td>(29.55848505770, -95.3208389111)</td>\n",
              "    </tr>\n",
              "    <tr>\n",
              "      <th>36</th>\n",
              "      <td>37</td>\n",
              "      <td>NM</td>\n",
              "      <td>Santa Fe</td>\n",
              "      <td>3570500</td>\n",
              "      <td>67947</td>\n",
              "      <td>10.8</td>\n",
              "      <td>26.6</td>\n",
              "      <td>14.7</td>\n",
              "      <td>27.0</td>\n",
              "      <td>75.7</td>\n",
              "      <td>6.8</td>\n",
              "      <td>9.3</td>\n",
              "      <td>6.1</td>\n",
              "      <td>64.2</td>\n",
              "      <td>75.7</td>\n",
              "      <td>61.4</td>\n",
              "      <td>5.4</td>\n",
              "      <td>30.7</td>\n",
              "      <td>27.5</td>\n",
              "      <td>13.4</td>\n",
              "      <td>68.7</td>\n",
              "      <td>10.0</td>\n",
              "      <td>32.8</td>\n",
              "      <td>3.1</td>\n",
              "      <td>16.3</td>\n",
              "      <td>71.1</td>\n",
              "      <td>11.0</td>\n",
              "      <td>18.8</td>\n",
              "      <td>82.5</td>\n",
              "      <td>12.4</td>\n",
              "      <td>27.1</td>\n",
              "      <td>2.9</td>\n",
              "      <td>10.3</td>\n",
              "      <td>(35.66627196010, -105.972662995)</td>\n",
              "    </tr>\n",
              "    <tr>\n",
              "      <th>249</th>\n",
              "      <td>250</td>\n",
              "      <td>OH</td>\n",
              "      <td>Toledo</td>\n",
              "      <td>3977000</td>\n",
              "      <td>287208</td>\n",
              "      <td>13.2</td>\n",
              "      <td>30.8</td>\n",
              "      <td>16.8</td>\n",
              "      <td>35.6</td>\n",
              "      <td>77.2</td>\n",
              "      <td>6.0</td>\n",
              "      <td>11.1</td>\n",
              "      <td>7.8</td>\n",
              "      <td>74.6</td>\n",
              "      <td>70.6</td>\n",
              "      <td>56.9</td>\n",
              "      <td>9.4</td>\n",
              "      <td>30.6</td>\n",
              "      <td>27.2</td>\n",
              "      <td>26.2</td>\n",
              "      <td>59.2</td>\n",
              "      <td>12.8</td>\n",
              "      <td>34.3</td>\n",
              "      <td>3.4</td>\n",
              "      <td>32.5</td>\n",
              "      <td>78.0</td>\n",
              "      <td>15.9</td>\n",
              "      <td>37.3</td>\n",
              "      <td>83.9</td>\n",
              "      <td>15.2</td>\n",
              "      <td>42.9</td>\n",
              "      <td>4.1</td>\n",
              "      <td>19.7</td>\n",
              "      <td>(41.66373996040, -83.5823818449)</td>\n",
              "    </tr>\n",
              "    <tr>\n",
              "      <th>253</th>\n",
              "      <td>254</td>\n",
              "      <td>CA</td>\n",
              "      <td>Hemet</td>\n",
              "      <td>633182</td>\n",
              "      <td>78657</td>\n",
              "      <td>16.2</td>\n",
              "      <td>29.1</td>\n",
              "      <td>14.6</td>\n",
              "      <td>37.8</td>\n",
              "      <td>75.9</td>\n",
              "      <td>8.1</td>\n",
              "      <td>9.5</td>\n",
              "      <td>9.6</td>\n",
              "      <td>68.6</td>\n",
              "      <td>73.9</td>\n",
              "      <td>66.8</td>\n",
              "      <td>9.0</td>\n",
              "      <td>29.7</td>\n",
              "      <td>29.0</td>\n",
              "      <td>16.9</td>\n",
              "      <td>57.0</td>\n",
              "      <td>13.4</td>\n",
              "      <td>40.2</td>\n",
              "      <td>4.2</td>\n",
              "      <td>28.7</td>\n",
              "      <td>79.0</td>\n",
              "      <td>13.8</td>\n",
              "      <td>30.3</td>\n",
              "      <td>83.5</td>\n",
              "      <td>16.7</td>\n",
              "      <td>37.7</td>\n",
              "      <td>4.9</td>\n",
              "      <td>18.9</td>\n",
              "      <td>(33.73522773110, -116.994605005)</td>\n",
              "    </tr>\n",
              "    <tr>\n",
              "      <th>...</th>\n",
              "      <td>...</td>\n",
              "      <td>...</td>\n",
              "      <td>...</td>\n",
              "      <td>...</td>\n",
              "      <td>...</td>\n",
              "      <td>...</td>\n",
              "      <td>...</td>\n",
              "      <td>...</td>\n",
              "      <td>...</td>\n",
              "      <td>...</td>\n",
              "      <td>...</td>\n",
              "      <td>...</td>\n",
              "      <td>...</td>\n",
              "      <td>...</td>\n",
              "      <td>...</td>\n",
              "      <td>...</td>\n",
              "      <td>...</td>\n",
              "      <td>...</td>\n",
              "      <td>...</td>\n",
              "      <td>...</td>\n",
              "      <td>...</td>\n",
              "      <td>...</td>\n",
              "      <td>...</td>\n",
              "      <td>...</td>\n",
              "      <td>...</td>\n",
              "      <td>...</td>\n",
              "      <td>...</td>\n",
              "      <td>...</td>\n",
              "      <td>...</td>\n",
              "      <td>...</td>\n",
              "      <td>...</td>\n",
              "      <td>...</td>\n",
              "      <td>...</td>\n",
              "      <td>...</td>\n",
              "    </tr>\n",
              "    <tr>\n",
              "      <th>252</th>\n",
              "      <td>253</td>\n",
              "      <td>TN</td>\n",
              "      <td>Chattanooga</td>\n",
              "      <td>4714000</td>\n",
              "      <td>167674</td>\n",
              "      <td>16.3</td>\n",
              "      <td>30.0</td>\n",
              "      <td>12.8</td>\n",
              "      <td>40.1</td>\n",
              "      <td>80.1</td>\n",
              "      <td>6.3</td>\n",
              "      <td>10.7</td>\n",
              "      <td>7.4</td>\n",
              "      <td>72.7</td>\n",
              "      <td>76.4</td>\n",
              "      <td>65.2</td>\n",
              "      <td>9.1</td>\n",
              "      <td>31.2</td>\n",
              "      <td>27.5</td>\n",
              "      <td>23.3</td>\n",
              "      <td>58.5</td>\n",
              "      <td>13.0</td>\n",
              "      <td>37.8</td>\n",
              "      <td>3.4</td>\n",
              "      <td>29.4</td>\n",
              "      <td>79.8</td>\n",
              "      <td>14.8</td>\n",
              "      <td>33.7</td>\n",
              "      <td>84.7</td>\n",
              "      <td>15.5</td>\n",
              "      <td>39.7</td>\n",
              "      <td>4.2</td>\n",
              "      <td>18.5</td>\n",
              "      <td>(35.06624721650, -85.2466771892)</td>\n",
              "    </tr>\n",
              "    <tr>\n",
              "      <th>110</th>\n",
              "      <td>111</td>\n",
              "      <td>FL</td>\n",
              "      <td>Miami Gardens</td>\n",
              "      <td>1245060</td>\n",
              "      <td>107167</td>\n",
              "      <td>29.2</td>\n",
              "      <td>20.7</td>\n",
              "      <td>14.1</td>\n",
              "      <td>37.6</td>\n",
              "      <td>79.7</td>\n",
              "      <td>5.0</td>\n",
              "      <td>9.4</td>\n",
              "      <td>6.4</td>\n",
              "      <td>80.4</td>\n",
              "      <td>73.2</td>\n",
              "      <td>52.4</td>\n",
              "      <td>7.5</td>\n",
              "      <td>20.1</td>\n",
              "      <td>20.2</td>\n",
              "      <td>20.4</td>\n",
              "      <td>52.5</td>\n",
              "      <td>14.4</td>\n",
              "      <td>35.8</td>\n",
              "      <td>3.7</td>\n",
              "      <td>40.7</td>\n",
              "      <td>85.5</td>\n",
              "      <td>14.4</td>\n",
              "      <td>33.6</td>\n",
              "      <td>82.7</td>\n",
              "      <td>14.7</td>\n",
              "      <td>41.2</td>\n",
              "      <td>4.6</td>\n",
              "      <td>21.6</td>\n",
              "      <td>(25.94326338710, -80.2425332162)</td>\n",
              "    </tr>\n",
              "    <tr>\n",
              "      <th>357</th>\n",
              "      <td>358</td>\n",
              "      <td>TX</td>\n",
              "      <td>Beaumont</td>\n",
              "      <td>4807000</td>\n",
              "      <td>118296</td>\n",
              "      <td>22.2</td>\n",
              "      <td>25.0</td>\n",
              "      <td>15.3</td>\n",
              "      <td>36.5</td>\n",
              "      <td>78.5</td>\n",
              "      <td>5.7</td>\n",
              "      <td>9.9</td>\n",
              "      <td>6.5</td>\n",
              "      <td>72.5</td>\n",
              "      <td>71.4</td>\n",
              "      <td>60.1</td>\n",
              "      <td>6.6</td>\n",
              "      <td>30.8</td>\n",
              "      <td>26.0</td>\n",
              "      <td>19.9</td>\n",
              "      <td>53.9</td>\n",
              "      <td>13.7</td>\n",
              "      <td>37.7</td>\n",
              "      <td>3.3</td>\n",
              "      <td>30.3</td>\n",
              "      <td>78.2</td>\n",
              "      <td>13.2</td>\n",
              "      <td>39.1</td>\n",
              "      <td>82.0</td>\n",
              "      <td>13.5</td>\n",
              "      <td>37.7</td>\n",
              "      <td>4.0</td>\n",
              "      <td>17.8</td>\n",
              "      <td>(30.08441664700, -94.1441072222)</td>\n",
              "    </tr>\n",
              "    <tr>\n",
              "      <th>423</th>\n",
              "      <td>424</td>\n",
              "      <td>CA</td>\n",
              "      <td>Chico</td>\n",
              "      <td>613014</td>\n",
              "      <td>86187</td>\n",
              "      <td>9.8</td>\n",
              "      <td>17.8</td>\n",
              "      <td>19.9</td>\n",
              "      <td>24.0</td>\n",
              "      <td>64.7</td>\n",
              "      <td>5.3</td>\n",
              "      <td>9.7</td>\n",
              "      <td>4.8</td>\n",
              "      <td>62.6</td>\n",
              "      <td>66.6</td>\n",
              "      <td>70.4</td>\n",
              "      <td>5.6</td>\n",
              "      <td>36.5</td>\n",
              "      <td>29.7</td>\n",
              "      <td>15.6</td>\n",
              "      <td>64.8</td>\n",
              "      <td>7.1</td>\n",
              "      <td>31.0</td>\n",
              "      <td>2.4</td>\n",
              "      <td>17.8</td>\n",
              "      <td>78.4</td>\n",
              "      <td>13.9</td>\n",
              "      <td>23.7</td>\n",
              "      <td>84.4</td>\n",
              "      <td>11.0</td>\n",
              "      <td>32.7</td>\n",
              "      <td>2.4</td>\n",
              "      <td>12.0</td>\n",
              "      <td>(39.75685036680, -121.815983972)</td>\n",
              "    </tr>\n",
              "    <tr>\n",
              "      <th>403</th>\n",
              "      <td>404</td>\n",
              "      <td>MI</td>\n",
              "      <td>Sterling Heights</td>\n",
              "      <td>2676460</td>\n",
              "      <td>129699</td>\n",
              "      <td>10.0</td>\n",
              "      <td>31.5</td>\n",
              "      <td>19.9</td>\n",
              "      <td>32.9</td>\n",
              "      <td>77.1</td>\n",
              "      <td>7.5</td>\n",
              "      <td>10.6</td>\n",
              "      <td>7.1</td>\n",
              "      <td>72.0</td>\n",
              "      <td>78.8</td>\n",
              "      <td>65.0</td>\n",
              "      <td>8.4</td>\n",
              "      <td>29.2</td>\n",
              "      <td>31.5</td>\n",
              "      <td>22.3</td>\n",
              "      <td>69.6</td>\n",
              "      <td>10.3</td>\n",
              "      <td>39.2</td>\n",
              "      <td>3.0</td>\n",
              "      <td>23.4</td>\n",
              "      <td>78.1</td>\n",
              "      <td>13.5</td>\n",
              "      <td>30.9</td>\n",
              "      <td>83.0</td>\n",
              "      <td>13.9</td>\n",
              "      <td>37.2</td>\n",
              "      <td>3.2</td>\n",
              "      <td>11.8</td>\n",
              "      <td>(42.58098528300, -83.0303680858)</td>\n",
              "    </tr>\n",
              "  </tbody>\n",
              "</table>\n",
              "<p>453 rows × 34 columns</p>\n",
              "</div>"
            ],
            "text/plain": [
              "     Unnamed: 0  ...                       Geolocation\n",
              "52           53  ...  (42.26331800150, -89.0625958362)\n",
              "96           97  ...  (29.55848505770, -95.3208389111)\n",
              "36           37  ...  (35.66627196010, -105.972662995)\n",
              "249         250  ...  (41.66373996040, -83.5823818449)\n",
              "253         254  ...  (33.73522773110, -116.994605005)\n",
              "..          ...  ...                               ...\n",
              "252         253  ...  (35.06624721650, -85.2466771892)\n",
              "110         111  ...  (25.94326338710, -80.2425332162)\n",
              "357         358  ...  (30.08441664700, -94.1441072222)\n",
              "423         424  ...  (39.75685036680, -121.815983972)\n",
              "403         404  ...  (42.58098528300, -83.0303680858)\n",
              "\n",
              "[453 rows x 34 columns]"
            ]
          },
          "metadata": {
            "tags": []
          },
          "execution_count": 8
        }
      ]
    },
    {
      "cell_type": "markdown",
      "metadata": {
        "id": "s8RGHHsY3tB_",
        "colab_type": "text"
      },
      "source": [
        "# Data Preparation"
      ]
    },
    {
      "cell_type": "markdown",
      "metadata": {
        "id": "okK29ouJ3xpM",
        "colab_type": "text"
      },
      "source": [
        "## Recode"
      ]
    },
    {
      "cell_type": "code",
      "metadata": {
        "id": "thlq9visaU5o",
        "colab_type": "code",
        "outputId": "0f08c474-239e-4c7e-c0c0-8ae620367c99",
        "colab": {
          "base_uri": "https://localhost:8080/",
          "height": 84
        }
      },
      "source": [
        "#Recode the target variable to be binary \n",
        "#If greater than median, give it a “1”\n",
        "#Otherwise, give it a “0”\n",
        "\n",
        "# class distribution\n",
        "# make a new target variable called 'class'\n",
        "# returns true/false and multiplying by 1 gives integer\n",
        "df_cities['Population2010'] = np.where(df_cities['Population2010'] > np.median(df_cities['Population2010']),1,0)\n",
        "print(df_cities.groupby('Population2010').size())"
      ],
      "execution_count": 9,
      "outputs": [
        {
          "output_type": "stream",
          "text": [
            "Population2010\n",
            "0    227\n",
            "1    226\n",
            "dtype: int64\n"
          ],
          "name": "stdout"
        }
      ]
    },
    {
      "cell_type": "code",
      "metadata": {
        "id": "Yk1bPN2DDyuO",
        "colab_type": "code",
        "outputId": "3eb5b170-cc83-4497-a6ab-f8d84b26da49",
        "colab": {
          "base_uri": "https://localhost:8080/",
          "height": 34
        }
      },
      "source": [
        "#predictor variables\n",
        "df_x = df_cities.iloc[:,5:33]\n",
        "print(df_x.shape)\n",
        "\n",
        "#target variables\n",
        "df_y = df_cities['Population2010']"
      ],
      "execution_count": 10,
      "outputs": [
        {
          "output_type": "stream",
          "text": [
            "(453, 28)\n"
          ],
          "name": "stdout"
        }
      ]
    },
    {
      "cell_type": "markdown",
      "metadata": {
        "id": "0o2Ujqkj31A-",
        "colab_type": "text"
      },
      "source": [
        "## Data Partitioning"
      ]
    },
    {
      "cell_type": "code",
      "metadata": {
        "id": "uiCUagy5DqBV",
        "colab_type": "code",
        "outputId": "5a056a20-6c8f-4579-b328-5fffd5f1081b",
        "colab": {
          "base_uri": "https://localhost:8080/",
          "height": 118
        }
      },
      "source": [
        "#partition data\n",
        "validation_size = 0.20\n",
        "seed = 123\n",
        "X_train, X_validation, Y_train, Y_validation = train_test_split(df_x, df_y, test_size=validation_size, random_state = seed)\n",
        "# let's look at the shape of these partitions\n",
        "print(\"-----------------Shape of the Partitions------------------\")\n",
        "print(\"X_train.shape is \", X_train.shape)\n",
        "print(\"Y_train.shape is \", Y_train.shape)\n",
        "print(\"X_test.shape is \", X_validation.shape)\n",
        "print(\"Y_test.shape is \", Y_validation.shape)\n",
        "print(\"My original data was \", df_cities.shape)"
      ],
      "execution_count": 11,
      "outputs": [
        {
          "output_type": "stream",
          "text": [
            "-----------------Shape of the Partitions------------------\n",
            "X_train.shape is  (362, 28)\n",
            "Y_train.shape is  (362,)\n",
            "X_test.shape is  (91, 28)\n",
            "Y_test.shape is  (91,)\n",
            "My original data was  (453, 34)\n"
          ],
          "name": "stdout"
        }
      ]
    },
    {
      "cell_type": "markdown",
      "metadata": {
        "id": "XCK8ONBtfvWl",
        "colab_type": "text"
      },
      "source": [
        "# Spot-checking and k-fold cross-validation "
      ]
    },
    {
      "cell_type": "code",
      "metadata": {
        "id": "hsHbHlRTegjO",
        "colab_type": "code",
        "colab": {}
      },
      "source": [
        "#SpotCheck for Classification Models\n",
        "\n",
        "####################################################\n",
        "# Spot-Check Algorithms\n",
        "# Update the models\n",
        "models = []\n",
        "models.append(('GBC', GradientBoostingClassifier())) \n",
        "models.append(('CART', DecisionTreeClassifier()))\n",
        "models.append(('LDA', LinearDiscriminantAnalysis()))\n",
        "models.append(('LR', LogisticRegression(max_iter=1000000)))\n",
        "models.append(('KNN', KNeighborsClassifier()))\n",
        "models.append(('NB', GaussianNB()))   \n",
        "models.append(('ETC', ExtraTreesClassifier())) \n",
        "models.append(('BC', BaggingClassifier()))  "
      ],
      "execution_count": 0,
      "outputs": []
    },
    {
      "cell_type": "code",
      "metadata": {
        "id": "aPkr3-SvgNA4",
        "colab_type": "code",
        "outputId": "f5e893cb-8f34-42b3-f0ae-382558987323",
        "colab": {
          "base_uri": "https://localhost:8080/",
          "height": 151
        }
      },
      "source": [
        "##################################################\n",
        "# Use a 20-fold cross-validation on the data\n",
        "# evaluate each model in turn\n",
        "results = []   #accuracy of 10 folds\n",
        "names = []\n",
        "\n",
        "# store preds\n",
        "from sklearn.model_selection import cross_val_predict\n",
        "smPreds = []\n",
        "for name, model in models:\n",
        "  kfold = KFold(n_splits=20, random_state=seed, shuffle=True)\n",
        "  # store the metrics\n",
        "  cv_results = cross_val_score(model, X_train, Y_train, cv=kfold, scoring='accuracy')\n",
        "  results.append(cv_results)    #stores accuracy of 10 folds for each model\n",
        "  names.append(name)\n",
        "  msg = \"%s: %f (%f)\" % (name, cv_results.mean(), cv_results.std())\n",
        "  print(msg)"
      ],
      "execution_count": 26,
      "outputs": [
        {
          "output_type": "stream",
          "text": [
            "GBC: 0.530702 (0.137288)\n",
            "CART: 0.520175 (0.110945)\n",
            "LDA: 0.561696 (0.125802)\n",
            "LR: 0.569883 (0.125199)\n",
            "KNN: 0.500439 (0.111688)\n",
            "NB: 0.605702 (0.123506)\n",
            "ETC: 0.567105 (0.128524)\n",
            "BC: 0.524708 (0.109212)\n"
          ],
          "name": "stdout"
        }
      ]
    },
    {
      "cell_type": "code",
      "metadata": {
        "id": "Moe-MGRwgP2S",
        "colab_type": "code",
        "outputId": "46603b3a-e8b1-47f5-8a36-62ef5d055d4e",
        "colab": {
          "base_uri": "https://localhost:8080/",
          "height": 294
        }
      },
      "source": [
        "#####################################\n",
        "# Compare Algorithms\n",
        "fig = pyplot.figure()\n",
        "fig.suptitle('Algorithm Comparison')\n",
        "ax = fig.add_subplot(111)\n",
        "pyplot.boxplot(results)\n",
        "ax.set_xticklabels(names)\n",
        "pyplot.show()\n",
        "# picking top three models that worked the best-Logistic Regression, Gaussian NB, Extra Tree Classifier"
      ],
      "execution_count": 27,
      "outputs": [
        {
          "output_type": "display_data",
          "data": {
            "image/png": "[encoded data removed]",
            "text/plain": [
              "<Figure size 432x288 with 1 Axes>"
            ]
          },
          "metadata": {
            "tags": [],
            "needs_background": "light"
          }
        }
      ]
    },
    {
      "cell_type": "markdown",
      "metadata": {
        "id": "EOtl7LhFdfek",
        "colab_type": "text"
      },
      "source": [
        "# Pipeline"
      ]
    },
    {
      "cell_type": "code",
      "metadata": {
        "id": "oBlkUpujdUKu",
        "colab_type": "code",
        "outputId": "8d506fde-75ba-46d0-c78b-c830fd815aaf",
        "colab": {
          "base_uri": "https://localhost:8080/",
          "height": 269
        }
      },
      "source": [
        "LogisticRegression().get_params()"
      ],
      "execution_count": 28,
      "outputs": [
        {
          "output_type": "execute_result",
          "data": {
            "text/plain": [
              "{'C': 1.0,\n",
              " 'class_weight': None,\n",
              " 'dual': False,\n",
              " 'fit_intercept': True,\n",
              " 'intercept_scaling': 1,\n",
              " 'l1_ratio': None,\n",
              " 'max_iter': 100,\n",
              " 'multi_class': 'auto',\n",
              " 'n_jobs': None,\n",
              " 'penalty': 'l2',\n",
              " 'random_state': None,\n",
              " 'solver': 'lbfgs',\n",
              " 'tol': 0.0001,\n",
              " 'verbose': 0,\n",
              " 'warm_start': False}"
            ]
          },
          "metadata": {
            "tags": []
          },
          "execution_count": 28
        }
      ]
    },
    {
      "cell_type": "code",
      "metadata": {
        "id": "xs491YV1dWk2",
        "colab_type": "code",
        "outputId": "35221356-bd51-4e30-d421-d2b93c8d7ea2",
        "colab": {
          "base_uri": "https://localhost:8080/",
          "height": 336
        }
      },
      "source": [
        "ExtraTreesClassifier().get_params()"
      ],
      "execution_count": 29,
      "outputs": [
        {
          "output_type": "execute_result",
          "data": {
            "text/plain": [
              "{'bootstrap': False,\n",
              " 'ccp_alpha': 0.0,\n",
              " 'class_weight': None,\n",
              " 'criterion': 'gini',\n",
              " 'max_depth': None,\n",
              " 'max_features': 'auto',\n",
              " 'max_leaf_nodes': None,\n",
              " 'max_samples': None,\n",
              " 'min_impurity_decrease': 0.0,\n",
              " 'min_impurity_split': None,\n",
              " 'min_samples_leaf': 1,\n",
              " 'min_samples_split': 2,\n",
              " 'min_weight_fraction_leaf': 0.0,\n",
              " 'n_estimators': 100,\n",
              " 'n_jobs': None,\n",
              " 'oob_score': False,\n",
              " 'random_state': None,\n",
              " 'verbose': 0,\n",
              " 'warm_start': False}"
            ]
          },
          "metadata": {
            "tags": []
          },
          "execution_count": 29
        }
      ]
    },
    {
      "cell_type": "code",
      "metadata": {
        "id": "_6khfIzJdZU8",
        "colab_type": "code",
        "outputId": "aeabc67d-08e6-4863-c1f3-93b0ba1a8048",
        "colab": {
          "base_uri": "https://localhost:8080/",
          "height": 34
        }
      },
      "source": [
        "GaussianNB().get_params()"
      ],
      "execution_count": 30,
      "outputs": [
        {
          "output_type": "execute_result",
          "data": {
            "text/plain": [
              "{'priors': None, 'var_smoothing': 1e-09}"
            ]
          },
          "metadata": {
            "tags": []
          },
          "execution_count": 30
        }
      ]
    },
    {
      "cell_type": "code",
      "metadata": {
        "id": "aM3fm4Uxdh1A",
        "colab_type": "code",
        "colab": {}
      },
      "source": [
        "#construct pipelines\n",
        "#Use standard scaling and PCA as pre-processing\n",
        "#LogisticRegression\n",
        "pipe_lr_pca = Pipeline([('scl', StandardScaler()),\n",
        "\t\t\t('pca', PCA(n_components=2)),\n",
        "\t\t\t('lr', LogisticRegression(random_state=123))])\n",
        "\n",
        "#ExtraTreesClassifier\n",
        "pipe_etc_pca = Pipeline([('scl', StandardScaler()),\n",
        "\t\t\t('pca', PCA(n_components=2)),\n",
        "\t\t\t('etc', ExtraTreesClassifier())])\n",
        "\n",
        "#GaussianNB\n",
        "pipe_gnb_pca = Pipeline([('scl', StandardScaler()),\n",
        "\t\t\t('pca', PCA(n_components=2)),\n",
        "\t\t\t('gnb', GaussianNB())])"
      ],
      "execution_count": 0,
      "outputs": []
    },
    {
      "cell_type": "code",
      "metadata": {
        "id": "PKl3atw3dks8",
        "colab_type": "code",
        "colab": {}
      },
      "source": [
        "param_range = [1, 2, 3]\n",
        "param_range_fl = [1.0, 0.5, 0.1]\n",
        "\n",
        "# Set grid search params\n",
        "#LogisticRegression\n",
        "grid_params_lr = [{'lr__penalty': ['l1', 'l2'],\n",
        "                   'lr__C': param_range_fl,\n",
        "\t\t\t\t\t\t\t\t\t 'lr__solver': ['liblinear']}] \n",
        "\n",
        "#ExtraTreesClassifier\n",
        "grid_params_etc = [{'etc__criterion': ['gini', 'entropy'],\n",
        "\t\t\t\t\t\t\t\t\t\t'etc__min_impurity_decrease': param_range,\n",
        "\t\t\t\t\t\t\t\t\t\t'etc__min_samples_leaf': param_range}]\n",
        "\n",
        "#GaussianNB\n",
        "grid_params_gnb = [{'gnb__var_smoothing': param_range}]"
      ],
      "execution_count": 0,
      "outputs": []
    },
    {
      "cell_type": "code",
      "metadata": {
        "id": "SuCyOrdDdoVR",
        "colab_type": "code",
        "colab": {}
      },
      "source": [
        "# Construct grid searches\n",
        "jobs = -1\n",
        "\n",
        "gs_lr = GridSearchCV(estimator=pipe_lr_pca,\n",
        "\t\t\tparam_grid=grid_params_lr,\n",
        "\t\t\tscoring='accuracy',\n",
        "\t\t\tcv=10) \n",
        "\n",
        "gs_etc = GridSearchCV(estimator=pipe_etc_pca,\n",
        "\t\t\tparam_grid=grid_params_etc,\n",
        "\t\t\tscoring='accuracy',\n",
        "\t\t\tcv=10, \n",
        "\t\t\tn_jobs=jobs)\n",
        "\n",
        "gs_gnb = GridSearchCV(estimator=pipe_gnb_pca,\n",
        "\t\t    \tparam_grid=grid_params_gnb,\n",
        "\t\t    \tscoring='accuracy',\n",
        "\t\t    \tcv=10)"
      ],
      "execution_count": 0,
      "outputs": []
    },
    {
      "cell_type": "code",
      "metadata": {
        "id": "2S2CtrpVdsqk",
        "colab_type": "code",
        "colab": {}
      },
      "source": [
        "# List of pipelines for ease of iteration\n",
        "grids = [gs_lr, gs_etc, gs_gnb]\n",
        "\n",
        "# Dictionary of pipelines and classifier types for ease of reference\n",
        "grid_dict = {0: 'Logistic Regression', 1: 'Extra Trees Classifier' , 2: 'Gaussian Naive Bayes'}"
      ],
      "execution_count": 0,
      "outputs": []
    },
    {
      "cell_type": "code",
      "metadata": {
        "id": "-bzCNW-gdupk",
        "colab_type": "code",
        "outputId": "145a7c26-b92b-4db0-e4ae-af8e1ef12e7a",
        "colab": {
          "base_uri": "https://localhost:8080/",
          "height": 319
        }
      },
      "source": [
        "# Fit the grid search objects\n",
        "print('Performing model optimizations...')\n",
        "best_acc = 0.0\n",
        "best_clf = 0\n",
        "best_gs = ''\n",
        "for idx, gs in enumerate(grids):\n",
        "\tprint('\\nEstimator: %s' % grid_dict[idx])\n",
        " \n",
        "\t# Fit grid search\t\n",
        "\tgs.fit(X_train, Y_train)\n",
        " \n",
        "\t# Best params\n",
        "\tprint('Best params: %s' % gs.best_params_)\n",
        " \n",
        "\t# Best training data accuracy\n",
        "\tprint('Best training accuracy: %.3f' % gs.best_score_)\n",
        " \n",
        "\t# Predict on test data with best params\n",
        "\ty_pred = gs.predict(X_validation)\n",
        " \n",
        "\t# Test data accuracy of model with best params(compare actual and predicted)\n",
        "\tprint('Test set accuracy score for best params: %.3f ' % accuracy_score(Y_validation, y_pred))\n",
        " \n",
        "\t# Track best (highest test accuracy) model\n",
        "\tif accuracy_score(Y_validation, y_pred) > best_acc:\n",
        "\t\tbest_acc = accuracy_score(Y_validation, y_pred)\n",
        "\t\tbest_gs = gs\n",
        "\t\tbest_clf = idx\n",
        "print('\\nClassifier with best test set accuracy: %s' % grid_dict[best_clf])"
      ],
      "execution_count": 35,
      "outputs": [
        {
          "output_type": "stream",
          "text": [
            "Performing model optimizations...\n",
            "\n",
            "Estimator: Logistic Regression\n",
            "Best params: {'lr__C': 0.5, 'lr__penalty': 'l2', 'lr__solver': 'liblinear'}\n",
            "Best training accuracy: 0.594\n",
            "Test set accuracy score for best params: 0.549 \n",
            "\n",
            "Estimator: Extra Trees Classifier\n",
            "Best params: {'etc__criterion': 'gini', 'etc__min_impurity_decrease': 1, 'etc__min_samples_leaf': 1}\n",
            "Best training accuracy: 0.505\n",
            "Test set accuracy score for best params: 0.473 \n",
            "\n",
            "Estimator: Gaussian Naive Bayes\n",
            "Best params: {'gnb__var_smoothing': 1}\n",
            "Best training accuracy: 0.550\n",
            "Test set accuracy score for best params: 0.538 \n",
            "\n",
            "Classifier with best test set accuracy: Logistic Regression\n"
          ],
          "name": "stdout"
        }
      ]
    },
    {
      "cell_type": "code",
      "metadata": {
        "id": "C0m2os32dwt8",
        "colab_type": "code",
        "colab": {}
      },
      "source": [
        "#Use the best fitting model and architecture to predict the holdout data \n",
        "############################################\n",
        "# Make predictions on validation dataset\n",
        "#For the algorithm that performs the best, run the model on all training data and predict the holdout data\n",
        "model1 = LogisticRegression(C = 0.5, penalty = 'l2', solver = 'liblinear')\n",
        "model1.fit(X_train, Y_train)\n",
        "predictions = model1.predict(X_validation)"
      ],
      "execution_count": 0,
      "outputs": []
    },
    {
      "cell_type": "code",
      "metadata": {
        "id": "V1CnaBRrd3h4",
        "colab_type": "code",
        "outputId": "95196464-57f8-4e18-8676-e7d0314be0f6",
        "colab": {
          "base_uri": "https://localhost:8080/",
          "height": 218
        }
      },
      "source": [
        "#Accuracy metrics \n",
        "print(accuracy_score(Y_validation, predictions))\n",
        "print(confusion_matrix(Y_validation, predictions))\n",
        "print(classification_report(Y_validation, predictions))"
      ],
      "execution_count": 37,
      "outputs": [
        {
          "output_type": "stream",
          "text": [
            "0.5714285714285714\n",
            "[[25 23]\n",
            " [16 27]]\n",
            "              precision    recall  f1-score   support\n",
            "\n",
            "           0       0.61      0.52      0.56        48\n",
            "           1       0.54      0.63      0.58        43\n",
            "\n",
            "    accuracy                           0.57        91\n",
            "   macro avg       0.57      0.57      0.57        91\n",
            "weighted avg       0.58      0.57      0.57        91\n",
            "\n"
          ],
          "name": "stdout"
        }
      ]
    }
  ]
}